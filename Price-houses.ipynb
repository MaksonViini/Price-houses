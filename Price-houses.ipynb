{
 "metadata": {
  "language_info": {
   "codemirror_mode": {
    "name": "ipython",
    "version": 3
   },
   "file_extension": ".py",
   "mimetype": "text/x-python",
   "name": "python",
   "nbconvert_exporter": "python",
   "pygments_lexer": "ipython3",
   "version": "3.9.5"
  },
  "orig_nbformat": 2,
  "kernelspec": {
   "name": "python3",
   "display_name": "Python 3.9.5 64-bit"
  },
  "interpreter": {
   "hash": "916dbcbb3f70747c44a77c7bcd40155683ae19c65e1c03b4aa3499c5328201f1"
  }
 },
 "nbformat": 4,
 "nbformat_minor": 2,
 "cells": [
  {
   "cell_type": "code",
   "execution_count": 1,
   "metadata": {},
   "outputs": [],
   "source": [
    "import pandas as pd\n",
    "import numpy as np\n",
    "import seaborn as sns\n",
    "from pycaret.regression import *"
   ]
  },
  {
   "cell_type": "code",
   "execution_count": 2,
   "metadata": {},
   "outputs": [],
   "source": [
    "data = pd.read_csv('kc_house_data.csv')"
   ]
  },
  {
   "cell_type": "code",
   "execution_count": 3,
   "metadata": {},
   "outputs": [
    {
     "output_type": "execute_result",
     "data": {
      "text/plain": [
       "           id             date     price  bedrooms  bathrooms  sqft_living  \\\n",
       "0  7129300520  20141013T000000  221900.0         3       1.00         1180   \n",
       "1  6414100192  20141209T000000  538000.0         3       2.25         2570   \n",
       "2  5631500400  20150225T000000  180000.0         2       1.00          770   \n",
       "3  2487200875  20141209T000000  604000.0         4       3.00         1960   \n",
       "4  1954400510  20150218T000000  510000.0         3       2.00         1680   \n",
       "\n",
       "   sqft_lot  floors  waterfront  view  condition  grade  sqft_above  \\\n",
       "0      5650     1.0           0     0          3      7        1180   \n",
       "1      7242     2.0           0     0          3      7        2170   \n",
       "2     10000     1.0           0     0          3      6         770   \n",
       "3      5000     1.0           0     0          5      7        1050   \n",
       "4      8080     1.0           0     0          3      8        1680   \n",
       "\n",
       "   sqft_basement  yr_built  yr_renovated  zipcode      lat     long  \\\n",
       "0              0      1955             0    98178  47.5112 -122.257   \n",
       "1            400      1951          1991    98125  47.7210 -122.319   \n",
       "2              0      1933             0    98028  47.7379 -122.233   \n",
       "3            910      1965             0    98136  47.5208 -122.393   \n",
       "4              0      1987             0    98074  47.6168 -122.045   \n",
       "\n",
       "   sqft_living15  sqft_lot15  \n",
       "0           1340        5650  \n",
       "1           1690        7639  \n",
       "2           2720        8062  \n",
       "3           1360        5000  \n",
       "4           1800        7503  "
      ],
      "text/html": "<div>\n<style scoped>\n    .dataframe tbody tr th:only-of-type {\n        vertical-align: middle;\n    }\n\n    .dataframe tbody tr th {\n        vertical-align: top;\n    }\n\n    .dataframe thead th {\n        text-align: right;\n    }\n</style>\n<table border=\"1\" class=\"dataframe\">\n  <thead>\n    <tr style=\"text-align: right;\">\n      <th></th>\n      <th>id</th>\n      <th>date</th>\n      <th>price</th>\n      <th>bedrooms</th>\n      <th>bathrooms</th>\n      <th>sqft_living</th>\n      <th>sqft_lot</th>\n      <th>floors</th>\n      <th>waterfront</th>\n      <th>view</th>\n      <th>condition</th>\n      <th>grade</th>\n      <th>sqft_above</th>\n      <th>sqft_basement</th>\n      <th>yr_built</th>\n      <th>yr_renovated</th>\n      <th>zipcode</th>\n      <th>lat</th>\n      <th>long</th>\n      <th>sqft_living15</th>\n      <th>sqft_lot15</th>\n    </tr>\n  </thead>\n  <tbody>\n    <tr>\n      <th>0</th>\n      <td>7129300520</td>\n      <td>20141013T000000</td>\n      <td>221900.0</td>\n      <td>3</td>\n      <td>1.00</td>\n      <td>1180</td>\n      <td>5650</td>\n      <td>1.0</td>\n      <td>0</td>\n      <td>0</td>\n      <td>3</td>\n      <td>7</td>\n      <td>1180</td>\n      <td>0</td>\n      <td>1955</td>\n      <td>0</td>\n      <td>98178</td>\n      <td>47.5112</td>\n      <td>-122.257</td>\n      <td>1340</td>\n      <td>5650</td>\n    </tr>\n    <tr>\n      <th>1</th>\n      <td>6414100192</td>\n      <td>20141209T000000</td>\n      <td>538000.0</td>\n      <td>3</td>\n      <td>2.25</td>\n      <td>2570</td>\n      <td>7242</td>\n      <td>2.0</td>\n      <td>0</td>\n      <td>0</td>\n      <td>3</td>\n      <td>7</td>\n      <td>2170</td>\n      <td>400</td>\n      <td>1951</td>\n      <td>1991</td>\n      <td>98125</td>\n      <td>47.7210</td>\n      <td>-122.319</td>\n      <td>1690</td>\n      <td>7639</td>\n    </tr>\n    <tr>\n      <th>2</th>\n      <td>5631500400</td>\n      <td>20150225T000000</td>\n      <td>180000.0</td>\n      <td>2</td>\n      <td>1.00</td>\n      <td>770</td>\n      <td>10000</td>\n      <td>1.0</td>\n      <td>0</td>\n      <td>0</td>\n      <td>3</td>\n      <td>6</td>\n      <td>770</td>\n      <td>0</td>\n      <td>1933</td>\n      <td>0</td>\n      <td>98028</td>\n      <td>47.7379</td>\n      <td>-122.233</td>\n      <td>2720</td>\n      <td>8062</td>\n    </tr>\n    <tr>\n      <th>3</th>\n      <td>2487200875</td>\n      <td>20141209T000000</td>\n      <td>604000.0</td>\n      <td>4</td>\n      <td>3.00</td>\n      <td>1960</td>\n      <td>5000</td>\n      <td>1.0</td>\n      <td>0</td>\n      <td>0</td>\n      <td>5</td>\n      <td>7</td>\n      <td>1050</td>\n      <td>910</td>\n      <td>1965</td>\n      <td>0</td>\n      <td>98136</td>\n      <td>47.5208</td>\n      <td>-122.393</td>\n      <td>1360</td>\n      <td>5000</td>\n    </tr>\n    <tr>\n      <th>4</th>\n      <td>1954400510</td>\n      <td>20150218T000000</td>\n      <td>510000.0</td>\n      <td>3</td>\n      <td>2.00</td>\n      <td>1680</td>\n      <td>8080</td>\n      <td>1.0</td>\n      <td>0</td>\n      <td>0</td>\n      <td>3</td>\n      <td>8</td>\n      <td>1680</td>\n      <td>0</td>\n      <td>1987</td>\n      <td>0</td>\n      <td>98074</td>\n      <td>47.6168</td>\n      <td>-122.045</td>\n      <td>1800</td>\n      <td>7503</td>\n    </tr>\n  </tbody>\n</table>\n</div>"
     },
     "metadata": {},
     "execution_count": 3
    }
   ],
   "source": [
    "data.head()"
   ]
  },
  {
   "cell_type": "code",
   "execution_count": 4,
   "metadata": {},
   "outputs": [
    {
     "output_type": "execute_result",
     "data": {
      "text/plain": [
       "                 id         price      bedrooms     bathrooms   sqft_living  \\\n",
       "count  2.161300e+04  2.161300e+04  21613.000000  21613.000000  21613.000000   \n",
       "mean   4.580302e+09  5.400881e+05      3.370842      2.114757   2079.899736   \n",
       "std    2.876566e+09  3.671272e+05      0.930062      0.770163    918.440897   \n",
       "min    1.000102e+06  7.500000e+04      0.000000      0.000000    290.000000   \n",
       "25%    2.123049e+09  3.219500e+05      3.000000      1.750000   1427.000000   \n",
       "50%    3.904930e+09  4.500000e+05      3.000000      2.250000   1910.000000   \n",
       "75%    7.308900e+09  6.450000e+05      4.000000      2.500000   2550.000000   \n",
       "max    9.900000e+09  7.700000e+06     33.000000      8.000000  13540.000000   \n",
       "\n",
       "           sqft_lot        floors    waterfront          view     condition  \\\n",
       "count  2.161300e+04  21613.000000  21613.000000  21613.000000  21613.000000   \n",
       "mean   1.510697e+04      1.494309      0.007542      0.234303      3.409430   \n",
       "std    4.142051e+04      0.539989      0.086517      0.766318      0.650743   \n",
       "min    5.200000e+02      1.000000      0.000000      0.000000      1.000000   \n",
       "25%    5.040000e+03      1.000000      0.000000      0.000000      3.000000   \n",
       "50%    7.618000e+03      1.500000      0.000000      0.000000      3.000000   \n",
       "75%    1.068800e+04      2.000000      0.000000      0.000000      4.000000   \n",
       "max    1.651359e+06      3.500000      1.000000      4.000000      5.000000   \n",
       "\n",
       "              grade    sqft_above  sqft_basement      yr_built  yr_renovated  \\\n",
       "count  21613.000000  21613.000000   21613.000000  21613.000000  21613.000000   \n",
       "mean       7.656873   1788.390691     291.509045   1971.005136     84.402258   \n",
       "std        1.175459    828.090978     442.575043     29.373411    401.679240   \n",
       "min        1.000000    290.000000       0.000000   1900.000000      0.000000   \n",
       "25%        7.000000   1190.000000       0.000000   1951.000000      0.000000   \n",
       "50%        7.000000   1560.000000       0.000000   1975.000000      0.000000   \n",
       "75%        8.000000   2210.000000     560.000000   1997.000000      0.000000   \n",
       "max       13.000000   9410.000000    4820.000000   2015.000000   2015.000000   \n",
       "\n",
       "            zipcode           lat          long  sqft_living15     sqft_lot15  \n",
       "count  21613.000000  21613.000000  21613.000000   21613.000000   21613.000000  \n",
       "mean   98077.939805     47.560053   -122.213896    1986.552492   12768.455652  \n",
       "std       53.505026      0.138564      0.140828     685.391304   27304.179631  \n",
       "min    98001.000000     47.155900   -122.519000     399.000000     651.000000  \n",
       "25%    98033.000000     47.471000   -122.328000    1490.000000    5100.000000  \n",
       "50%    98065.000000     47.571800   -122.230000    1840.000000    7620.000000  \n",
       "75%    98118.000000     47.678000   -122.125000    2360.000000   10083.000000  \n",
       "max    98199.000000     47.777600   -121.315000    6210.000000  871200.000000  "
      ],
      "text/html": "<div>\n<style scoped>\n    .dataframe tbody tr th:only-of-type {\n        vertical-align: middle;\n    }\n\n    .dataframe tbody tr th {\n        vertical-align: top;\n    }\n\n    .dataframe thead th {\n        text-align: right;\n    }\n</style>\n<table border=\"1\" class=\"dataframe\">\n  <thead>\n    <tr style=\"text-align: right;\">\n      <th></th>\n      <th>id</th>\n      <th>price</th>\n      <th>bedrooms</th>\n      <th>bathrooms</th>\n      <th>sqft_living</th>\n      <th>sqft_lot</th>\n      <th>floors</th>\n      <th>waterfront</th>\n      <th>view</th>\n      <th>condition</th>\n      <th>grade</th>\n      <th>sqft_above</th>\n      <th>sqft_basement</th>\n      <th>yr_built</th>\n      <th>yr_renovated</th>\n      <th>zipcode</th>\n      <th>lat</th>\n      <th>long</th>\n      <th>sqft_living15</th>\n      <th>sqft_lot15</th>\n    </tr>\n  </thead>\n  <tbody>\n    <tr>\n      <th>count</th>\n      <td>2.161300e+04</td>\n      <td>2.161300e+04</td>\n      <td>21613.000000</td>\n      <td>21613.000000</td>\n      <td>21613.000000</td>\n      <td>2.161300e+04</td>\n      <td>21613.000000</td>\n      <td>21613.000000</td>\n      <td>21613.000000</td>\n      <td>21613.000000</td>\n      <td>21613.000000</td>\n      <td>21613.000000</td>\n      <td>21613.000000</td>\n      <td>21613.000000</td>\n      <td>21613.000000</td>\n      <td>21613.000000</td>\n      <td>21613.000000</td>\n      <td>21613.000000</td>\n      <td>21613.000000</td>\n      <td>21613.000000</td>\n    </tr>\n    <tr>\n      <th>mean</th>\n      <td>4.580302e+09</td>\n      <td>5.400881e+05</td>\n      <td>3.370842</td>\n      <td>2.114757</td>\n      <td>2079.899736</td>\n      <td>1.510697e+04</td>\n      <td>1.494309</td>\n      <td>0.007542</td>\n      <td>0.234303</td>\n      <td>3.409430</td>\n      <td>7.656873</td>\n      <td>1788.390691</td>\n      <td>291.509045</td>\n      <td>1971.005136</td>\n      <td>84.402258</td>\n      <td>98077.939805</td>\n      <td>47.560053</td>\n      <td>-122.213896</td>\n      <td>1986.552492</td>\n      <td>12768.455652</td>\n    </tr>\n    <tr>\n      <th>std</th>\n      <td>2.876566e+09</td>\n      <td>3.671272e+05</td>\n      <td>0.930062</td>\n      <td>0.770163</td>\n      <td>918.440897</td>\n      <td>4.142051e+04</td>\n      <td>0.539989</td>\n      <td>0.086517</td>\n      <td>0.766318</td>\n      <td>0.650743</td>\n      <td>1.175459</td>\n      <td>828.090978</td>\n      <td>442.575043</td>\n      <td>29.373411</td>\n      <td>401.679240</td>\n      <td>53.505026</td>\n      <td>0.138564</td>\n      <td>0.140828</td>\n      <td>685.391304</td>\n      <td>27304.179631</td>\n    </tr>\n    <tr>\n      <th>min</th>\n      <td>1.000102e+06</td>\n      <td>7.500000e+04</td>\n      <td>0.000000</td>\n      <td>0.000000</td>\n      <td>290.000000</td>\n      <td>5.200000e+02</td>\n      <td>1.000000</td>\n      <td>0.000000</td>\n      <td>0.000000</td>\n      <td>1.000000</td>\n      <td>1.000000</td>\n      <td>290.000000</td>\n      <td>0.000000</td>\n      <td>1900.000000</td>\n      <td>0.000000</td>\n      <td>98001.000000</td>\n      <td>47.155900</td>\n      <td>-122.519000</td>\n      <td>399.000000</td>\n      <td>651.000000</td>\n    </tr>\n    <tr>\n      <th>25%</th>\n      <td>2.123049e+09</td>\n      <td>3.219500e+05</td>\n      <td>3.000000</td>\n      <td>1.750000</td>\n      <td>1427.000000</td>\n      <td>5.040000e+03</td>\n      <td>1.000000</td>\n      <td>0.000000</td>\n      <td>0.000000</td>\n      <td>3.000000</td>\n      <td>7.000000</td>\n      <td>1190.000000</td>\n      <td>0.000000</td>\n      <td>1951.000000</td>\n      <td>0.000000</td>\n      <td>98033.000000</td>\n      <td>47.471000</td>\n      <td>-122.328000</td>\n      <td>1490.000000</td>\n      <td>5100.000000</td>\n    </tr>\n    <tr>\n      <th>50%</th>\n      <td>3.904930e+09</td>\n      <td>4.500000e+05</td>\n      <td>3.000000</td>\n      <td>2.250000</td>\n      <td>1910.000000</td>\n      <td>7.618000e+03</td>\n      <td>1.500000</td>\n      <td>0.000000</td>\n      <td>0.000000</td>\n      <td>3.000000</td>\n      <td>7.000000</td>\n      <td>1560.000000</td>\n      <td>0.000000</td>\n      <td>1975.000000</td>\n      <td>0.000000</td>\n      <td>98065.000000</td>\n      <td>47.571800</td>\n      <td>-122.230000</td>\n      <td>1840.000000</td>\n      <td>7620.000000</td>\n    </tr>\n    <tr>\n      <th>75%</th>\n      <td>7.308900e+09</td>\n      <td>6.450000e+05</td>\n      <td>4.000000</td>\n      <td>2.500000</td>\n      <td>2550.000000</td>\n      <td>1.068800e+04</td>\n      <td>2.000000</td>\n      <td>0.000000</td>\n      <td>0.000000</td>\n      <td>4.000000</td>\n      <td>8.000000</td>\n      <td>2210.000000</td>\n      <td>560.000000</td>\n      <td>1997.000000</td>\n      <td>0.000000</td>\n      <td>98118.000000</td>\n      <td>47.678000</td>\n      <td>-122.125000</td>\n      <td>2360.000000</td>\n      <td>10083.000000</td>\n    </tr>\n    <tr>\n      <th>max</th>\n      <td>9.900000e+09</td>\n      <td>7.700000e+06</td>\n      <td>33.000000</td>\n      <td>8.000000</td>\n      <td>13540.000000</td>\n      <td>1.651359e+06</td>\n      <td>3.500000</td>\n      <td>1.000000</td>\n      <td>4.000000</td>\n      <td>5.000000</td>\n      <td>13.000000</td>\n      <td>9410.000000</td>\n      <td>4820.000000</td>\n      <td>2015.000000</td>\n      <td>2015.000000</td>\n      <td>98199.000000</td>\n      <td>47.777600</td>\n      <td>-121.315000</td>\n      <td>6210.000000</td>\n      <td>871200.000000</td>\n    </tr>\n  </tbody>\n</table>\n</div>"
     },
     "metadata": {},
     "execution_count": 4
    }
   ],
   "source": [
    "data.describe()"
   ]
  },
  {
   "cell_type": "code",
   "execution_count": 5,
   "metadata": {},
   "outputs": [
    {
     "output_type": "execute_result",
     "data": {
      "text/plain": [
       "Index(['id', 'date', 'price', 'bedrooms', 'bathrooms', 'sqft_living',\n",
       "       'sqft_lot', 'floors', 'waterfront', 'view', 'condition', 'grade',\n",
       "       'sqft_above', 'sqft_basement', 'yr_built', 'yr_renovated', 'zipcode',\n",
       "       'lat', 'long', 'sqft_living15', 'sqft_lot15'],\n",
       "      dtype='object')"
      ]
     },
     "metadata": {},
     "execution_count": 5
    }
   ],
   "source": [
    "data.columns"
   ]
  },
  {
   "cell_type": "code",
   "execution_count": 6,
   "metadata": {},
   "outputs": [],
   "source": [
    "columns = ['id', 'date', 'zipcode', 'lat', 'long']\n",
    "data_clean = data.drop(columns=columns, axis=1)"
   ]
  },
  {
   "cell_type": "code",
   "execution_count": 7,
   "metadata": {},
   "outputs": [
    {
     "output_type": "execute_result",
     "data": {
      "text/plain": [
       "price            float64\n",
       "bedrooms           int64\n",
       "bathrooms        float64\n",
       "sqft_living        int64\n",
       "sqft_lot           int64\n",
       "floors           float64\n",
       "waterfront         int64\n",
       "view               int64\n",
       "condition          int64\n",
       "grade              int64\n",
       "sqft_above         int64\n",
       "sqft_basement      int64\n",
       "yr_built           int64\n",
       "yr_renovated       int64\n",
       "sqft_living15      int64\n",
       "sqft_lot15         int64\n",
       "dtype: object"
      ]
     },
     "metadata": {},
     "execution_count": 7
    }
   ],
   "source": [
    "data_clean.dtypes"
   ]
  },
  {
   "cell_type": "code",
   "execution_count": 8,
   "metadata": {},
   "outputs": [
    {
     "output_type": "execute_result",
     "data": {
      "text/plain": [
       "Index(['price', 'bedrooms', 'bathrooms', 'sqft_living', 'sqft_lot', 'floors',\n",
       "       'waterfront', 'view', 'condition', 'grade', 'sqft_above',\n",
       "       'sqft_basement', 'yr_built', 'yr_renovated', 'sqft_living15',\n",
       "       'sqft_lot15'],\n",
       "      dtype='object')"
      ]
     },
     "metadata": {},
     "execution_count": 8
    }
   ],
   "source": [
    "data_clean.columns"
   ]
  },
  {
   "cell_type": "code",
   "execution_count": 9,
   "metadata": {},
   "outputs": [
    {
     "output_type": "display_data",
     "data": {
      "text/plain": "Text(value=\"Following data types have been inferred automatically, if they are correct press enter to continue…",
      "application/vnd.jupyter.widget-view+json": {
       "version_major": 2,
       "version_minor": 0,
       "model_id": "306fe492e43d40ee9ee4f87e61395d40"
      }
     },
     "metadata": {}
    },
    {
     "output_type": "display_data",
     "data": {
      "text/plain": "              Data Type\nbedrooms        Numeric\nbathrooms       Numeric\nsqft_living     Numeric\nsqft_lot        Numeric\nfloors          Numeric\nwaterfront      Numeric\nview            Numeric\ncondition       Numeric\ngrade           Numeric\nsqft_above      Numeric\nsqft_basement   Numeric\nyr_built        Numeric\nyr_renovated    Numeric\nsqft_living15   Numeric\nsqft_lot15      Numeric\nprice             Label",
      "text/html": "<div>\n<style scoped>\n    .dataframe tbody tr th:only-of-type {\n        vertical-align: middle;\n    }\n\n    .dataframe tbody tr th {\n        vertical-align: top;\n    }\n\n    .dataframe thead th {\n        text-align: right;\n    }\n</style>\n<table border=\"1\" class=\"dataframe\">\n  <thead>\n    <tr style=\"text-align: right;\">\n      <th></th>\n      <th>Data Type</th>\n    </tr>\n  </thead>\n  <tbody>\n    <tr>\n      <th>bedrooms</th>\n      <td>Numeric</td>\n    </tr>\n    <tr>\n      <th>bathrooms</th>\n      <td>Numeric</td>\n    </tr>\n    <tr>\n      <th>sqft_living</th>\n      <td>Numeric</td>\n    </tr>\n    <tr>\n      <th>sqft_lot</th>\n      <td>Numeric</td>\n    </tr>\n    <tr>\n      <th>floors</th>\n      <td>Numeric</td>\n    </tr>\n    <tr>\n      <th>waterfront</th>\n      <td>Numeric</td>\n    </tr>\n    <tr>\n      <th>view</th>\n      <td>Numeric</td>\n    </tr>\n    <tr>\n      <th>condition</th>\n      <td>Numeric</td>\n    </tr>\n    <tr>\n      <th>grade</th>\n      <td>Numeric</td>\n    </tr>\n    <tr>\n      <th>sqft_above</th>\n      <td>Numeric</td>\n    </tr>\n    <tr>\n      <th>sqft_basement</th>\n      <td>Numeric</td>\n    </tr>\n    <tr>\n      <th>yr_built</th>\n      <td>Numeric</td>\n    </tr>\n    <tr>\n      <th>yr_renovated</th>\n      <td>Numeric</td>\n    </tr>\n    <tr>\n      <th>sqft_living15</th>\n      <td>Numeric</td>\n    </tr>\n    <tr>\n      <th>sqft_lot15</th>\n      <td>Numeric</td>\n    </tr>\n    <tr>\n      <th>price</th>\n      <td>Label</td>\n    </tr>\n  </tbody>\n</table>\n</div>"
     },
     "metadata": {}
    }
   ],
   "source": [
    "setup = setup(data_clean, target='price', train_size=0.6, n_jobs=-1, verbose=False, numeric_features=['bedrooms', 'waterfront', 'view', 'condition', 'grade'])"
   ]
  },
  {
   "cell_type": "code",
   "execution_count": 10,
   "metadata": {},
   "outputs": [
    {
     "output_type": "display_data",
     "data": {
      "text/plain": "IntProgress(value=0, description='Processing: ', max=99)",
      "application/vnd.jupyter.widget-view+json": {
       "version_major": 2,
       "version_minor": 0,
       "model_id": "7e7445cdbd1e442a89829fb1a8104e53"
      }
     },
     "metadata": {}
    },
    {
     "output_type": "display_data",
     "data": {
      "text/plain": "                                                                         \n                                                                         \nInitiated  . . . . . . . . . . . . . . . . . .                   16:01:36\nStatus     . . . . . . . . . . . . . . . . . .            Fitting 5 Folds\nEstimator  . . . . . . . . . . . . . . . . . .  Extreme Gradient Boosting",
      "text/html": "<div>\n<style scoped>\n    .dataframe tbody tr th:only-of-type {\n        vertical-align: middle;\n    }\n\n    .dataframe tbody tr th {\n        vertical-align: top;\n    }\n\n    .dataframe thead th {\n        text-align: right;\n    }\n</style>\n<table border=\"1\" class=\"dataframe\">\n  <thead>\n    <tr style=\"text-align: right;\">\n      <th></th>\n      <th></th>\n      <th></th>\n    </tr>\n    <tr>\n      <th></th>\n      <th></th>\n      <th></th>\n    </tr>\n  </thead>\n  <tbody>\n    <tr>\n      <th>Initiated</th>\n      <td>. . . . . . . . . . . . . . . . . .</td>\n      <td>16:01:36</td>\n    </tr>\n    <tr>\n      <th>Status</th>\n      <td>. . . . . . . . . . . . . . . . . .</td>\n      <td>Fitting 5 Folds</td>\n    </tr>\n    <tr>\n      <th>Estimator</th>\n      <td>. . . . . . . . . . . . . . . . . .</td>\n      <td>Extreme Gradient Boosting</td>\n    </tr>\n  </tbody>\n</table>\n</div>"
     },
     "metadata": {}
    },
    {
     "output_type": "display_data",
     "data": {
      "text/plain": "<pandas.io.formats.style.Styler at 0x7f390f2c95b0>",
      "text/html": "<style  type=\"text/css\" >\n    #T_9e276_ th {\n          text-align: left;\n    }#T_9e276_row0_col0,#T_9e276_row0_col1,#T_9e276_row0_col2,#T_9e276_row0_col3,#T_9e276_row0_col4,#T_9e276_row0_col5,#T_9e276_row0_col6,#T_9e276_row0_col7,#T_9e276_row1_col0,#T_9e276_row1_col1,#T_9e276_row1_col2,#T_9e276_row1_col3,#T_9e276_row1_col4,#T_9e276_row1_col5,#T_9e276_row1_col6,#T_9e276_row1_col7,#T_9e276_row2_col0,#T_9e276_row2_col1,#T_9e276_row2_col2,#T_9e276_row2_col3,#T_9e276_row2_col4,#T_9e276_row2_col5,#T_9e276_row2_col6,#T_9e276_row2_col7,#T_9e276_row3_col0,#T_9e276_row3_col1,#T_9e276_row3_col2,#T_9e276_row3_col3,#T_9e276_row3_col4,#T_9e276_row3_col5,#T_9e276_row3_col6,#T_9e276_row3_col7,#T_9e276_row4_col0,#T_9e276_row4_col1,#T_9e276_row4_col2,#T_9e276_row4_col3,#T_9e276_row4_col4,#T_9e276_row4_col5,#T_9e276_row4_col6,#T_9e276_row4_col7,#T_9e276_row5_col0,#T_9e276_row5_col1,#T_9e276_row5_col2,#T_9e276_row5_col3,#T_9e276_row5_col4,#T_9e276_row5_col5,#T_9e276_row5_col6,#T_9e276_row5_col7,#T_9e276_row6_col0,#T_9e276_row6_col1,#T_9e276_row6_col2,#T_9e276_row6_col3,#T_9e276_row6_col4,#T_9e276_row6_col5,#T_9e276_row6_col6,#T_9e276_row6_col7,#T_9e276_row7_col0,#T_9e276_row7_col1,#T_9e276_row7_col2,#T_9e276_row7_col3,#T_9e276_row7_col4,#T_9e276_row7_col5,#T_9e276_row7_col6,#T_9e276_row7_col7,#T_9e276_row8_col0,#T_9e276_row8_col1,#T_9e276_row8_col2,#T_9e276_row8_col3,#T_9e276_row8_col4,#T_9e276_row8_col5,#T_9e276_row8_col6,#T_9e276_row8_col7,#T_9e276_row9_col0,#T_9e276_row9_col1,#T_9e276_row9_col2,#T_9e276_row9_col3,#T_9e276_row9_col4,#T_9e276_row9_col5,#T_9e276_row9_col6,#T_9e276_row9_col7,#T_9e276_row10_col0,#T_9e276_row10_col1,#T_9e276_row10_col2,#T_9e276_row10_col3,#T_9e276_row10_col4,#T_9e276_row10_col5,#T_9e276_row10_col6,#T_9e276_row10_col7,#T_9e276_row11_col0,#T_9e276_row11_col1,#T_9e276_row11_col2,#T_9e276_row11_col3,#T_9e276_row11_col4,#T_9e276_row11_col5,#T_9e276_row11_col6,#T_9e276_row11_col7,#T_9e276_row12_col0,#T_9e276_row12_col1,#T_9e276_row12_col2,#T_9e276_row12_col3,#T_9e276_row12_col4,#T_9e276_row12_col5,#T_9e276_row12_col6,#T_9e276_row12_col7,#T_9e276_row13_col0,#T_9e276_row13_col1,#T_9e276_row13_col2,#T_9e276_row13_col3,#T_9e276_row13_col4,#T_9e276_row13_col5,#T_9e276_row13_col6,#T_9e276_row13_col7,#T_9e276_row14_col0,#T_9e276_row14_col1,#T_9e276_row14_col2,#T_9e276_row14_col3,#T_9e276_row14_col4,#T_9e276_row14_col5,#T_9e276_row14_col6,#T_9e276_row14_col7,#T_9e276_row15_col0,#T_9e276_row15_col1,#T_9e276_row15_col2,#T_9e276_row15_col3,#T_9e276_row15_col4,#T_9e276_row15_col5,#T_9e276_row15_col6,#T_9e276_row15_col7{\n            text-align:  left;\n        }</style><table id=\"T_9e276_\" ><thead>    <tr>        <th class=\"blank level0\" ></th>        <th class=\"col_heading level0 col0\" >Model</th>        <th class=\"col_heading level0 col1\" >MAE</th>        <th class=\"col_heading level0 col2\" >MSE</th>        <th class=\"col_heading level0 col3\" >RMSE</th>        <th class=\"col_heading level0 col4\" >R2</th>        <th class=\"col_heading level0 col5\" >RMSLE</th>        <th class=\"col_heading level0 col6\" >MAPE</th>        <th class=\"col_heading level0 col7\" >TT (Sec)</th>    </tr></thead><tbody>\n                <tr>\n                        <th id=\"T_9e276_level0_row0\" class=\"row_heading level0 row0\" >rf</th>\n                        <td id=\"T_9e276_row0_col0\" class=\"data row0 col0\" >Random Forest Regressor</td>\n                        <td id=\"T_9e276_row0_col1\" class=\"data row0 col1\" >118181.2527</td>\n                        <td id=\"T_9e276_row0_col2\" class=\"data row0 col2\" >36726628216.5099</td>\n                        <td id=\"T_9e276_row0_col3\" class=\"data row0 col3\" >191312.1950</td>\n                        <td id=\"T_9e276_row0_col4\" class=\"data row0 col4\" >0.7233</td>\n                        <td id=\"T_9e276_row0_col5\" class=\"data row0 col5\" >0.2887</td>\n                        <td id=\"T_9e276_row0_col6\" class=\"data row0 col6\" >0.2419</td>\n                        <td id=\"T_9e276_row0_col7\" class=\"data row0 col7\" >1.1020</td>\n            </tr>\n            <tr>\n                        <th id=\"T_9e276_level0_row1\" class=\"row_heading level0 row1\" >et</th>\n                        <td id=\"T_9e276_row1_col0\" class=\"data row1 col0\" >Extra Trees Regressor</td>\n                        <td id=\"T_9e276_row1_col1\" class=\"data row1 col1\" >119049.6177</td>\n                        <td id=\"T_9e276_row1_col2\" class=\"data row1 col2\" >36666889643.3679</td>\n                        <td id=\"T_9e276_row1_col3\" class=\"data row1 col3\" >191269.2670</td>\n                        <td id=\"T_9e276_row1_col4\" class=\"data row1 col4\" >0.7231</td>\n                        <td id=\"T_9e276_row1_col5\" class=\"data row1 col5\" >0.2932</td>\n                        <td id=\"T_9e276_row1_col6\" class=\"data row1 col6\" >0.2449</td>\n                        <td id=\"T_9e276_row1_col7\" class=\"data row1 col7\" >0.6980</td>\n            </tr>\n            <tr>\n                        <th id=\"T_9e276_level0_row2\" class=\"row_heading level0 row2\" >gbr</th>\n                        <td id=\"T_9e276_row2_col0\" class=\"data row2 col0\" >Gradient Boosting Regressor</td>\n                        <td id=\"T_9e276_row2_col1\" class=\"data row2 col1\" >123241.6222</td>\n                        <td id=\"T_9e276_row2_col2\" class=\"data row2 col2\" >37823209170.6581</td>\n                        <td id=\"T_9e276_row2_col3\" class=\"data row2 col3\" >194057.9918</td>\n                        <td id=\"T_9e276_row2_col4\" class=\"data row2 col4\" >0.7153</td>\n                        <td id=\"T_9e276_row2_col5\" class=\"data row2 col5\" >0.2981</td>\n                        <td id=\"T_9e276_row2_col6\" class=\"data row2 col6\" >0.2566</td>\n                        <td id=\"T_9e276_row2_col7\" class=\"data row2 col7\" >0.3720</td>\n            </tr>\n            <tr>\n                        <th id=\"T_9e276_level0_row3\" class=\"row_heading level0 row3\" >llar</th>\n                        <td id=\"T_9e276_row3_col0\" class=\"data row3 col0\" >Lasso Least Angle Regression</td>\n                        <td id=\"T_9e276_row3_col1\" class=\"data row3 col1\" >139498.0444</td>\n                        <td id=\"T_9e276_row3_col2\" class=\"data row3 col2\" >46425202286.4113</td>\n                        <td id=\"T_9e276_row3_col3\" class=\"data row3 col3\" >215153.6046</td>\n                        <td id=\"T_9e276_row3_col4\" class=\"data row3 col4\" >0.6507</td>\n                        <td id=\"T_9e276_row3_col5\" class=\"data row3 col5\" >0.3826</td>\n                        <td id=\"T_9e276_row3_col6\" class=\"data row3 col6\" >0.2902</td>\n                        <td id=\"T_9e276_row3_col7\" class=\"data row3 col7\" >0.0120</td>\n            </tr>\n            <tr>\n                        <th id=\"T_9e276_level0_row4\" class=\"row_heading level0 row4\" >lr</th>\n                        <td id=\"T_9e276_row4_col0\" class=\"data row4 col0\" >Linear Regression</td>\n                        <td id=\"T_9e276_row4_col1\" class=\"data row4 col1\" >139529.6250</td>\n                        <td id=\"T_9e276_row4_col2\" class=\"data row4 col2\" >46429315891.2000</td>\n                        <td id=\"T_9e276_row4_col3\" class=\"data row4 col3\" >215163.2406</td>\n                        <td id=\"T_9e276_row4_col4\" class=\"data row4 col4\" >0.6506</td>\n                        <td id=\"T_9e276_row4_col5\" class=\"data row4 col5\" >0.3834</td>\n                        <td id=\"T_9e276_row4_col6\" class=\"data row4 col6\" >0.2903</td>\n                        <td id=\"T_9e276_row4_col7\" class=\"data row4 col7\" >0.4700</td>\n            </tr>\n            <tr>\n                        <th id=\"T_9e276_level0_row5\" class=\"row_heading level0 row5\" >lasso</th>\n                        <td id=\"T_9e276_row5_col0\" class=\"data row5 col0\" >Lasso Regression</td>\n                        <td id=\"T_9e276_row5_col1\" class=\"data row5 col1\" >139528.4938</td>\n                        <td id=\"T_9e276_row5_col2\" class=\"data row5 col2\" >46426893516.8000</td>\n                        <td id=\"T_9e276_row5_col3\" class=\"data row5 col3\" >215157.6531</td>\n                        <td id=\"T_9e276_row5_col4\" class=\"data row5 col4\" >0.6506</td>\n                        <td id=\"T_9e276_row5_col5\" class=\"data row5 col5\" >0.3828</td>\n                        <td id=\"T_9e276_row5_col6\" class=\"data row5 col6\" >0.2903</td>\n                        <td id=\"T_9e276_row5_col7\" class=\"data row5 col7\" >1.1400</td>\n            </tr>\n            <tr>\n                        <th id=\"T_9e276_level0_row6\" class=\"row_heading level0 row6\" >ridge</th>\n                        <td id=\"T_9e276_row6_col0\" class=\"data row6 col0\" >Ridge Regression</td>\n                        <td id=\"T_9e276_row6_col1\" class=\"data row6 col1\" >139529.2375</td>\n                        <td id=\"T_9e276_row6_col2\" class=\"data row6 col2\" >46427498905.6000</td>\n                        <td id=\"T_9e276_row6_col3\" class=\"data row6 col3\" >215159.7094</td>\n                        <td id=\"T_9e276_row6_col4\" class=\"data row6 col4\" >0.6506</td>\n                        <td id=\"T_9e276_row6_col5\" class=\"data row6 col5\" >0.3837</td>\n                        <td id=\"T_9e276_row6_col6\" class=\"data row6 col6\" >0.2903</td>\n                        <td id=\"T_9e276_row6_col7\" class=\"data row6 col7\" >0.1220</td>\n            </tr>\n            <tr>\n                        <th id=\"T_9e276_level0_row7\" class=\"row_heading level0 row7\" >lar</th>\n                        <td id=\"T_9e276_row7_col0\" class=\"data row7 col0\" >Least Angle Regression</td>\n                        <td id=\"T_9e276_row7_col1\" class=\"data row7 col1\" >139528.4988</td>\n                        <td id=\"T_9e276_row7_col2\" class=\"data row7 col2\" >46426884536.1669</td>\n                        <td id=\"T_9e276_row7_col3\" class=\"data row7 col3\" >215157.6222</td>\n                        <td id=\"T_9e276_row7_col4\" class=\"data row7 col4\" >0.6506</td>\n                        <td id=\"T_9e276_row7_col5\" class=\"data row7 col5\" >0.3828</td>\n                        <td id=\"T_9e276_row7_col6\" class=\"data row7 col6\" >0.2903</td>\n                        <td id=\"T_9e276_row7_col7\" class=\"data row7 col7\" >0.0140</td>\n            </tr>\n            <tr>\n                        <th id=\"T_9e276_level0_row8\" class=\"row_heading level0 row8\" >br</th>\n                        <td id=\"T_9e276_row8_col0\" class=\"data row8 col0\" >Bayesian Ridge</td>\n                        <td id=\"T_9e276_row8_col1\" class=\"data row8 col1\" >139533.0228</td>\n                        <td id=\"T_9e276_row8_col2\" class=\"data row8 col2\" >46430950482.4685</td>\n                        <td id=\"T_9e276_row8_col3\" class=\"data row8 col3\" >215168.2358</td>\n                        <td id=\"T_9e276_row8_col4\" class=\"data row8 col4\" >0.6506</td>\n                        <td id=\"T_9e276_row8_col5\" class=\"data row8 col5\" >0.3821</td>\n                        <td id=\"T_9e276_row8_col6\" class=\"data row8 col6\" >0.2903</td>\n                        <td id=\"T_9e276_row8_col7\" class=\"data row8 col7\" >0.0220</td>\n            </tr>\n            <tr>\n                        <th id=\"T_9e276_level0_row9\" class=\"row_heading level0 row9\" >en</th>\n                        <td id=\"T_9e276_row9_col0\" class=\"data row9 col0\" >Elastic Net</td>\n                        <td id=\"T_9e276_row9_col1\" class=\"data row9 col1\" >146208.2312</td>\n                        <td id=\"T_9e276_row9_col2\" class=\"data row9 col2\" >51500389990.4000</td>\n                        <td id=\"T_9e276_row9_col3\" class=\"data row9 col3\" >226632.2500</td>\n                        <td id=\"T_9e276_row9_col4\" class=\"data row9 col4\" >0.6123</td>\n                        <td id=\"T_9e276_row9_col5\" class=\"data row9 col5\" >0.3664</td>\n                        <td id=\"T_9e276_row9_col6\" class=\"data row9 col6\" >0.3032</td>\n                        <td id=\"T_9e276_row9_col7\" class=\"data row9 col7\" >0.0340</td>\n            </tr>\n            <tr>\n                        <th id=\"T_9e276_level0_row10\" class=\"row_heading level0 row10\" >omp</th>\n                        <td id=\"T_9e276_row10_col0\" class=\"data row10 col0\" >Orthogonal Matching Pursuit</td>\n                        <td id=\"T_9e276_row10_col1\" class=\"data row10 col1\" >174107.6413</td>\n                        <td id=\"T_9e276_row10_col2\" class=\"data row10 col2\" >68575998237.8391</td>\n                        <td id=\"T_9e276_row10_col3\" class=\"data row10 col3\" >261650.0011</td>\n                        <td id=\"T_9e276_row10_col4\" class=\"data row10 col4\" >0.4828</td>\n                        <td id=\"T_9e276_row10_col5\" class=\"data row10 col5\" >0.4096</td>\n                        <td id=\"T_9e276_row10_col6\" class=\"data row10 col6\" >0.3603</td>\n                        <td id=\"T_9e276_row10_col7\" class=\"data row10 col7\" >0.0060</td>\n            </tr>\n            <tr>\n                        <th id=\"T_9e276_level0_row11\" class=\"row_heading level0 row11\" >huber</th>\n                        <td id=\"T_9e276_row11_col0\" class=\"data row11 col0\" >Huber Regressor</td>\n                        <td id=\"T_9e276_row11_col1\" class=\"data row11 col1\" >163265.7547</td>\n                        <td id=\"T_9e276_row11_col2\" class=\"data row11 col2\" >70731615596.6480</td>\n                        <td id=\"T_9e276_row11_col3\" class=\"data row11 col3\" >265492.9747</td>\n                        <td id=\"T_9e276_row11_col4\" class=\"data row11 col4\" >0.4687</td>\n                        <td id=\"T_9e276_row11_col5\" class=\"data row11 col5\" >0.3777</td>\n                        <td id=\"T_9e276_row11_col6\" class=\"data row11 col6\" >0.3219</td>\n                        <td id=\"T_9e276_row11_col7\" class=\"data row11 col7\" >0.1420</td>\n            </tr>\n            <tr>\n                        <th id=\"T_9e276_level0_row12\" class=\"row_heading level0 row12\" >knn</th>\n                        <td id=\"T_9e276_row12_col0\" class=\"data row12 col0\" >K Neighbors Regressor</td>\n                        <td id=\"T_9e276_row12_col1\" class=\"data row12 col1\" >162310.3000</td>\n                        <td id=\"T_9e276_row12_col2\" class=\"data row12 col2\" >70907968716.8000</td>\n                        <td id=\"T_9e276_row12_col3\" class=\"data row12 col3\" >266093.5375</td>\n                        <td id=\"T_9e276_row12_col4\" class=\"data row12 col4\" >0.4645</td>\n                        <td id=\"T_9e276_row12_col5\" class=\"data row12 col5\" >0.3835</td>\n                        <td id=\"T_9e276_row12_col6\" class=\"data row12 col6\" >0.3257</td>\n                        <td id=\"T_9e276_row12_col7\" class=\"data row12 col7\" >0.0560</td>\n            </tr>\n            <tr>\n                        <th id=\"T_9e276_level0_row13\" class=\"row_heading level0 row13\" >dt</th>\n                        <td id=\"T_9e276_row13_col0\" class=\"data row13 col0\" >Decision Tree Regressor</td>\n                        <td id=\"T_9e276_row13_col1\" class=\"data row13 col1\" >162881.7688</td>\n                        <td id=\"T_9e276_row13_col2\" class=\"data row13 col2\" >72982996221.6807</td>\n                        <td id=\"T_9e276_row13_col3\" class=\"data row13 col3\" >270004.8622</td>\n                        <td id=\"T_9e276_row13_col4\" class=\"data row13 col4\" >0.4456</td>\n                        <td id=\"T_9e276_row13_col5\" class=\"data row13 col5\" >0.3975</td>\n                        <td id=\"T_9e276_row13_col6\" class=\"data row13 col6\" >0.3225</td>\n                        <td id=\"T_9e276_row13_col7\" class=\"data row13 col7\" >0.0360</td>\n            </tr>\n            <tr>\n                        <th id=\"T_9e276_level0_row14\" class=\"row_heading level0 row14\" >ada</th>\n                        <td id=\"T_9e276_row14_col0\" class=\"data row14 col0\" >AdaBoost Regressor</td>\n                        <td id=\"T_9e276_row14_col1\" class=\"data row14 col1\" >288216.0038</td>\n                        <td id=\"T_9e276_row14_col2\" class=\"data row14 col2\" >114232749393.4638</td>\n                        <td id=\"T_9e276_row14_col3\" class=\"data row14 col3\" >337204.8196</td>\n                        <td id=\"T_9e276_row14_col4\" class=\"data row14 col4\" >0.1394</td>\n                        <td id=\"T_9e276_row14_col5\" class=\"data row14 col5\" >0.6213</td>\n                        <td id=\"T_9e276_row14_col6\" class=\"data row14 col6\" >0.7853</td>\n                        <td id=\"T_9e276_row14_col7\" class=\"data row14 col7\" >0.3580</td>\n            </tr>\n            <tr>\n                        <th id=\"T_9e276_level0_row15\" class=\"row_heading level0 row15\" >par</th>\n                        <td id=\"T_9e276_row15_col0\" class=\"data row15 col0\" >Passive Aggressive Regressor</td>\n                        <td id=\"T_9e276_row15_col1\" class=\"data row15 col1\" >226799.6122</td>\n                        <td id=\"T_9e276_row15_col2\" class=\"data row15 col2\" >314540990410.6140</td>\n                        <td id=\"T_9e276_row15_col3\" class=\"data row15 col3\" >492201.0500</td>\n                        <td id=\"T_9e276_row15_col4\" class=\"data row15 col4\" >-1.3188</td>\n                        <td id=\"T_9e276_row15_col5\" class=\"data row15 col5\" >0.4929</td>\n                        <td id=\"T_9e276_row15_col6\" class=\"data row15 col6\" >0.4641</td>\n                        <td id=\"T_9e276_row15_col7\" class=\"data row15 col7\" >0.0140</td>\n            </tr>\n    </tbody></table>"
     },
     "metadata": {}
    },
    {
     "output_type": "stream",
     "name": "stderr",
     "text": [
      "/home/maksonvinicio/.local/lib/python3.9/site-packages/sklearn/linear_model/_coordinate_descent.py:529: ConvergenceWarning: Objective did not converge. You might want to increase the number of iterations. Duality gap: 227242122674176.0, tolerance: 133845565440.0\n",
      "  model = cd_fast.enet_coordinate_descent(\n",
      "/home/maksonvinicio/.local/lib/python3.9/site-packages/sklearn/linear_model/_coordinate_descent.py:529: ConvergenceWarning: Objective did not converge. You might want to increase the number of iterations. Duality gap: 242531283501056.0, tolerance: 144569745408.0\n",
      "  model = cd_fast.enet_coordinate_descent(\n",
      "/home/maksonvinicio/.local/lib/python3.9/site-packages/sklearn/linear_model/_coordinate_descent.py:529: ConvergenceWarning: Objective did not converge. You might want to increase the number of iterations. Duality gap: 225484675743744.0, tolerance: 136171544576.0\n",
      "  model = cd_fast.enet_coordinate_descent(\n",
      "/home/maksonvinicio/.local/lib/python3.9/site-packages/sklearn/linear_model/_coordinate_descent.py:529: ConvergenceWarning: Objective did not converge. You might want to increase the number of iterations. Duality gap: 215473778065408.0, tolerance: 137430130688.0\n",
      "  model = cd_fast.enet_coordinate_descent(\n",
      "/home/maksonvinicio/.local/lib/python3.9/site-packages/sklearn/linear_model/_coordinate_descent.py:529: ConvergenceWarning: Objective did not converge. You might want to increase the number of iterations. Duality gap: 221722536050688.0, tolerance: 137922347008.0\n",
      "  model = cd_fast.enet_coordinate_descent(\n",
      "/home/maksonvinicio/.local/lib/python3.9/site-packages/sklearn/linear_model/_ridge.py:147: LinAlgWarning: Ill-conditioned matrix (rcond=2.84084e-12): result may not be accurate.\n",
      "  return linalg.solve(A, Xy, sym_pos=True,\n",
      "/home/maksonvinicio/.local/lib/python3.9/site-packages/sklearn/linear_model/_ridge.py:147: LinAlgWarning: Ill-conditioned matrix (rcond=1.75283e-12): result may not be accurate.\n",
      "  return linalg.solve(A, Xy, sym_pos=True,\n",
      "/home/maksonvinicio/.local/lib/python3.9/site-packages/sklearn/linear_model/_ridge.py:147: LinAlgWarning: Ill-conditioned matrix (rcond=2.03469e-12): result may not be accurate.\n",
      "  return linalg.solve(A, Xy, sym_pos=True,\n",
      "/home/maksonvinicio/.local/lib/python3.9/site-packages/sklearn/linear_model/_coordinate_descent.py:529: ConvergenceWarning: Objective did not converge. You might want to increase the number of iterations. Duality gap: 286020125851648.0, tolerance: 137922347008.0\n",
      "  model = cd_fast.enet_coordinate_descent(\n",
      "/home/maksonvinicio/.local/lib/python3.9/site-packages/sklearn/linear_model/_coordinate_descent.py:529: ConvergenceWarning: Objective did not converge. You might want to increase the number of iterations. Duality gap: 277491444875264.0, tolerance: 137430130688.0\n",
      "  model = cd_fast.enet_coordinate_descent(\n",
      "/home/maksonvinicio/.local/lib/python3.9/site-packages/sklearn/linear_model/_coordinate_descent.py:529: ConvergenceWarning: Objective did not converge. You might want to increase the number of iterations. Duality gap: 275229037297664.0, tolerance: 133845565440.0\n",
      "  model = cd_fast.enet_coordinate_descent(\n",
      "/home/maksonvinicio/.local/lib/python3.9/site-packages/sklearn/linear_model/_coordinate_descent.py:529: ConvergenceWarning: Objective did not converge. You might want to increase the number of iterations. Duality gap: 280283039399936.0, tolerance: 136171544576.0\n",
      "  model = cd_fast.enet_coordinate_descent(\n",
      "/home/maksonvinicio/.local/lib/python3.9/site-packages/sklearn/linear_model/_coordinate_descent.py:529: ConvergenceWarning: Objective did not converge. You might want to increase the number of iterations. Duality gap: 294145700659200.0, tolerance: 144569745408.0\n",
      "  model = cd_fast.enet_coordinate_descent(\n",
      "/home/maksonvinicio/.local/lib/python3.9/site-packages/sklearn/utils/deprecation.py:101: FutureWarning: Attribute standard_coef_ was deprecated in version 0.23 and will be removed in 0.25.\n",
      "  warnings.warn(msg, category=FutureWarning)\n",
      "/home/maksonvinicio/.local/lib/python3.9/site-packages/sklearn/utils/deprecation.py:101: FutureWarning: Attribute standard_coef_ was deprecated in version 0.23 and will be removed in 0.25.\n",
      "  warnings.warn(msg, category=FutureWarning)\n",
      "/home/maksonvinicio/.local/lib/python3.9/site-packages/sklearn/utils/deprecation.py:101: FutureWarning: Attribute standard_coef_ was deprecated in version 0.23 and will be removed in 0.25.\n",
      "  warnings.warn(msg, category=FutureWarning)\n",
      "/home/maksonvinicio/.local/lib/python3.9/site-packages/sklearn/utils/deprecation.py:101: FutureWarning: Attribute standard_coef_ was deprecated in version 0.23 and will be removed in 0.25.\n",
      "  warnings.warn(msg, category=FutureWarning)\n",
      "/home/maksonvinicio/.local/lib/python3.9/site-packages/sklearn/utils/deprecation.py:101: FutureWarning: Attribute standard_intercept_ was deprecated in version 0.23 and will be removed in 0.25.\n",
      "  warnings.warn(msg, category=FutureWarning)\n",
      "/home/maksonvinicio/.local/lib/python3.9/site-packages/sklearn/utils/deprecation.py:101: FutureWarning: Attribute standard_intercept_ was deprecated in version 0.23 and will be removed in 0.25.\n",
      "  warnings.warn(msg, category=FutureWarning)\n",
      "/home/maksonvinicio/.local/lib/python3.9/site-packages/sklearn/utils/deprecation.py:101: FutureWarning: Attribute standard_intercept_ was deprecated in version 0.23 and will be removed in 0.25.\n",
      "  warnings.warn(msg, category=FutureWarning)\n",
      "/home/maksonvinicio/.local/lib/python3.9/site-packages/sklearn/utils/deprecation.py:101: FutureWarning: Attribute standard_intercept_ was deprecated in version 0.23 and will be removed in 0.25.\n",
      "  warnings.warn(msg, category=FutureWarning)\n",
      "/home/maksonvinicio/.local/lib/python3.9/site-packages/sklearn/utils/deprecation.py:101: FutureWarning: Attribute average_coef_ was deprecated in version 0.23 and will be removed in 0.25.\n",
      "  warnings.warn(msg, category=FutureWarning)\n",
      "/home/maksonvinicio/.local/lib/python3.9/site-packages/sklearn/utils/deprecation.py:101: FutureWarning: Attribute average_coef_ was deprecated in version 0.23 and will be removed in 0.25.\n",
      "  warnings.warn(msg, category=FutureWarning)\n",
      "/home/maksonvinicio/.local/lib/python3.9/site-packages/sklearn/utils/deprecation.py:101: FutureWarning: Attribute average_coef_ was deprecated in version 0.23 and will be removed in 0.25.\n",
      "  warnings.warn(msg, category=FutureWarning)\n",
      "/home/maksonvinicio/.local/lib/python3.9/site-packages/sklearn/utils/deprecation.py:101: FutureWarning: Attribute average_coef_ was deprecated in version 0.23 and will be removed in 0.25.\n",
      "  warnings.warn(msg, category=FutureWarning)\n",
      "/home/maksonvinicio/.local/lib/python3.9/site-packages/sklearn/utils/deprecation.py:101: FutureWarning: Attribute average_intercept_ was deprecated in version 0.23 and will be removed in 0.25.\n",
      "  warnings.warn(msg, category=FutureWarning)\n",
      "/home/maksonvinicio/.local/lib/python3.9/site-packages/sklearn/utils/deprecation.py:101: FutureWarning: Attribute average_intercept_ was deprecated in version 0.23 and will be removed in 0.25.\n",
      "  warnings.warn(msg, category=FutureWarning)\n",
      "/home/maksonvinicio/.local/lib/python3.9/site-packages/sklearn/utils/deprecation.py:101: FutureWarning: Attribute average_intercept_ was deprecated in version 0.23 and will be removed in 0.25.\n",
      "  warnings.warn(msg, category=FutureWarning)\n",
      "/home/maksonvinicio/.local/lib/python3.9/site-packages/sklearn/utils/deprecation.py:101: FutureWarning: Attribute average_intercept_ was deprecated in version 0.23 and will be removed in 0.25.\n",
      "  warnings.warn(msg, category=FutureWarning)\n",
      "/home/maksonvinicio/.local/lib/python3.9/site-packages/sklearn/utils/deprecation.py:101: FutureWarning: Attribute standard_coef_ was deprecated in version 0.23 and will be removed in 0.25.\n",
      "  warnings.warn(msg, category=FutureWarning)\n",
      "/home/maksonvinicio/.local/lib/python3.9/site-packages/sklearn/utils/deprecation.py:101: FutureWarning: Attribute standard_intercept_ was deprecated in version 0.23 and will be removed in 0.25.\n",
      "  warnings.warn(msg, category=FutureWarning)\n",
      "/home/maksonvinicio/.local/lib/python3.9/site-packages/sklearn/utils/deprecation.py:101: FutureWarning: Attribute average_coef_ was deprecated in version 0.23 and will be removed in 0.25.\n",
      "  warnings.warn(msg, category=FutureWarning)\n",
      "/home/maksonvinicio/.local/lib/python3.9/site-packages/sklearn/utils/deprecation.py:101: FutureWarning: Attribute average_intercept_ was deprecated in version 0.23 and will be removed in 0.25.\n",
      "  warnings.warn(msg, category=FutureWarning)\n",
      "/home/maksonvinicio/.local/lib/python3.9/site-packages/sklearn/tree/_classes.py:1254: FutureWarning: the classes_ attribute is to be deprecated from version 0.22 and will be removed in 0.24.\n",
      "  warnings.warn(msg, FutureWarning)\n",
      "/home/maksonvinicio/.local/lib/python3.9/site-packages/sklearn/tree/_classes.py:1262: FutureWarning: the n_classes_ attribute is to be deprecated from version 0.22 and will be removed in 0.24.\n",
      "  warnings.warn(msg, FutureWarning)\n",
      "/home/maksonvinicio/.local/lib/python3.9/site-packages/sklearn/tree/_classes.py:1254: FutureWarning: the classes_ attribute is to be deprecated from version 0.22 and will be removed in 0.24.\n",
      "  warnings.warn(msg, FutureWarning)\n",
      "/home/maksonvinicio/.local/lib/python3.9/site-packages/sklearn/tree/_classes.py:1262: FutureWarning: the n_classes_ attribute is to be deprecated from version 0.22 and will be removed in 0.24.\n",
      "  warnings.warn(msg, FutureWarning)\n",
      "/home/maksonvinicio/.local/lib/python3.9/site-packages/sklearn/tree/_classes.py:1254: FutureWarning: the classes_ attribute is to be deprecated from version 0.22 and will be removed in 0.24.\n",
      "  warnings.warn(msg, FutureWarning)\n",
      "/home/maksonvinicio/.local/lib/python3.9/site-packages/sklearn/tree/_classes.py:1262: FutureWarning: the n_classes_ attribute is to be deprecated from version 0.22 and will be removed in 0.24.\n",
      "  warnings.warn(msg, FutureWarning)\n",
      "/home/maksonvinicio/.local/lib/python3.9/site-packages/sklearn/tree/_classes.py:1254: FutureWarning: the classes_ attribute is to be deprecated from version 0.22 and will be removed in 0.24.\n",
      "  warnings.warn(msg, FutureWarning)\n",
      "/home/maksonvinicio/.local/lib/python3.9/site-packages/sklearn/tree/_classes.py:1262: FutureWarning: the n_classes_ attribute is to be deprecated from version 0.22 and will be removed in 0.24.\n",
      "  warnings.warn(msg, FutureWarning)\n",
      "/home/maksonvinicio/.local/lib/python3.9/site-packages/sklearn/tree/_classes.py:1254: FutureWarning: the classes_ attribute is to be deprecated from version 0.22 and will be removed in 0.24.\n",
      "  warnings.warn(msg, FutureWarning)\n",
      "/home/maksonvinicio/.local/lib/python3.9/site-packages/sklearn/tree/_classes.py:1262: FutureWarning: the n_classes_ attribute is to be deprecated from version 0.22 and will be removed in 0.24.\n",
      "  warnings.warn(msg, FutureWarning)\n"
     ]
    }
   ],
   "source": [
    "# exclude = ['']\n",
    "best_models = compare_models(fold=5)"
   ]
  },
  {
   "cell_type": "code",
   "execution_count": null,
   "metadata": {},
   "outputs": [],
   "source": []
  },
  {
   "cell_type": "code",
   "execution_count": null,
   "metadata": {},
   "outputs": [],
   "source": []
  },
  {
   "cell_type": "code",
   "execution_count": 2,
   "metadata": {},
   "outputs": [],
   "source": [
    "# # 1 - Quantas casas estao disponiveis para compra?\n",
    "# print('Estao disponiveis para compra:', data.shape[0], '\\n')\n",
    "\n",
    "# # 2 - Quantos atributos as casas tem?\n",
    "# print('Quantos atributos as casas tem:', data.shape[1], '\\n')\n",
    "\n",
    "# # 3 - Quais sao os atributos da casa?\n",
    "# print('Quais sao os atributos da casa:', data.columns, '\\n')\n",
    "\n",
    "# # 4 - Qual a casa mais cara?\n",
    "# print('Valor maxido da casa:', data['price'].max(), '\\n')\n",
    "\n",
    "# # 5 - Qual a casa com maior numero de quartos?\n",
    "# print('Qual a casa com maior numero de quartos:', data['bedrooms'].max(), '\\n')\n",
    "\n",
    "# # 6 - Qual a soma total de quartos do conjunto de dados?\n",
    "# print('Qual a soma total de quartos do conjunto de dados:', data['bedrooms'].sum(), '\\n')\n",
    "\n",
    "# # 7 - Quanta casas possuem 2 banheiros?\n",
    "# print('Quantidade de casas com dois banheiros:', data['bathrooms'].loc[data['bathrooms'] == 2].sum()/2, '\\n')\n",
    "\n",
    "# # 8 - Qual o preco medio de todas as casas do conjunto de dados?\n",
    "# print('Qual o preco medio de todas as casas do conjunto de dados:', data['price'].mean(), '\\n')\n",
    "\n",
    "# # 9 - Qual o preco medio de casas com 2 banheiros?\n",
    "# print('Qual o preco medio de casas com 2 banheiros?:',data['price'].loc[data['bathrooms'] == 2].mean(), '\\n')\n",
    "\n",
    "# # 10 - Qual o preco minimo entre as casas com 3 quartos?\n",
    "# print('Qual o preco minimo entre as casas com 3 quartos:',data['price'].loc[data['bedrooms'] == 3].min(), '\\n')   \n",
    "\n",
    "# # 11 - Quantas casas possuem mais de 300 metros quadrados na sala de estar?\n",
    "# print('Quantas casas possuem mais de 300 metros quadrados na sala de estar:', data['id'].loc[data['sqft_living'] > 300].count(), '\\n')\n",
    "\n",
    "# # 12 - Quantas casas tem mais de 2 andares?\n",
    "# print('Quantas casas tem mais de 2 andares:', data['id'].loc[data['floors'] > 2].count(), '\\n')\n",
    "\n",
    "# # 13 - Quantas casas tem vista para o mar?\n",
    "# print('Quantas casas tem vista para o mar:', data['id'].loc[data['waterfront'] == 1].count(), '\\n')\n",
    "\n",
    "# # 14 - Das casas com vista para o mar, quantas tem 3 quartos?\n",
    "# print('Das casas com vista para o mar, quantas tem 3 quartos:', data['id'].loc[data['bedrooms'] == 3].loc[data['waterfront'] == 1].count(), '\\n')\n",
    "\n",
    "# # 15 - Das casas com mais de 300 metros quadrados de sala de estar, quantas possuem 3 banheiros?\n",
    "# data['m2_living'] = data['sqft_living'] * 0.093\n",
    "\n",
    "# print('Das casas com mais de 300 metros quadrados de sala de estar, quantas possuem 2 banheiros:', data['id'].loc[data['m2_living'] > 300].loc[data['bathrooms'] > 2].count(), '\\n')"
   ]
  }
 ]
}